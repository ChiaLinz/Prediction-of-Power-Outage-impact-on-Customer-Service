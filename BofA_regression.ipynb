{
  "cells": [
    {
      "cell_type": "code",
      "execution_count": null,
      "metadata": {
        "id": "STGtVReafmLc"
      },
      "outputs": [],
      "source": [
        "import pandas as pd\n",
        "import numpy as np \n",
        "import seaborn as sns\n",
        "import matplotlib.pyplot as plt\n",
        "from sklearn.preprocessing import LabelEncoder\n",
        "from sklearn.model_selection import train_test_split\n",
        "from sklearn.preprocessing import StandardScaler\n",
        "from sklearn.ensemble import RandomForestRegressor\n",
        "from sklearn.model_selection import KFold\n",
        "from sklearn.metrics import mean_squared_error\n",
        "from sklearn import metrics\n",
        "%matplotlib inline"
      ]
    },
    {
      "cell_type": "code",
      "execution_count": 62,
      "metadata": {
        "colab": {
          "base_uri": "https://localhost:8080/",
          "height": 401
        },
        "id": "guGlzARSfxUR",
        "outputId": "6c150812-e1a7-4588-b10b-d13ebd25ad82"
      },
      "outputs": [
        {
          "data": {
            "text/html": [
              "<div>\n",
              "<style scoped>\n",
              "    .dataframe tbody tr th:only-of-type {\n",
              "        vertical-align: middle;\n",
              "    }\n",
              "\n",
              "    .dataframe tbody tr th {\n",
              "        vertical-align: top;\n",
              "    }\n",
              "\n",
              "    .dataframe thead th {\n",
              "        text-align: right;\n",
              "    }\n",
              "</style>\n",
              "<table border=\"1\" class=\"dataframe\">\n",
              "  <thead>\n",
              "    <tr style=\"text-align: right;\">\n",
              "      <th></th>\n",
              "      <th>Date</th>\n",
              "      <th>State</th>\n",
              "      <th>Outage</th>\n",
              "      <th>Number of Customers Affected</th>\n",
              "      <th>Num Counties Affected</th>\n",
              "      <th>Season</th>\n",
              "      <th>AWND</th>\n",
              "      <th>PRCP</th>\n",
              "      <th>SNOW</th>\n",
              "      <th>SNWD</th>\n",
              "      <th>...</th>\n",
              "      <th>TMIN</th>\n",
              "      <th>Fog</th>\n",
              "      <th>Thunder</th>\n",
              "      <th>Hail</th>\n",
              "      <th>Dust</th>\n",
              "      <th>Tornado</th>\n",
              "      <th>Wind</th>\n",
              "      <th>Rain</th>\n",
              "      <th>Snow</th>\n",
              "      <th>hours</th>\n",
              "    </tr>\n",
              "  </thead>\n",
              "  <tbody>\n",
              "    <tr>\n",
              "      <th>0</th>\n",
              "      <td>2017-01-01</td>\n",
              "      <td>Alabama</td>\n",
              "      <td>0</td>\n",
              "      <td>0.0</td>\n",
              "      <td>0.0</td>\n",
              "      <td>Winter</td>\n",
              "      <td>3.1875</td>\n",
              "      <td>57.9625</td>\n",
              "      <td>0.0</td>\n",
              "      <td>0.0</td>\n",
              "      <td>...</td>\n",
              "      <td>12.8375</td>\n",
              "      <td>1.0</td>\n",
              "      <td>1.0</td>\n",
              "      <td>0.0</td>\n",
              "      <td>0.0</td>\n",
              "      <td>0.0</td>\n",
              "      <td>0.0</td>\n",
              "      <td>0.0</td>\n",
              "      <td>0.0</td>\n",
              "      <td>0.0</td>\n",
              "    </tr>\n",
              "    <tr>\n",
              "      <th>1</th>\n",
              "      <td>2017-01-02</td>\n",
              "      <td>Alabama</td>\n",
              "      <td>0</td>\n",
              "      <td>0.0</td>\n",
              "      <td>0.0</td>\n",
              "      <td>Winter</td>\n",
              "      <td>4.0625</td>\n",
              "      <td>72.2625</td>\n",
              "      <td>0.0</td>\n",
              "      <td>0.0</td>\n",
              "      <td>...</td>\n",
              "      <td>15.9625</td>\n",
              "      <td>1.0</td>\n",
              "      <td>1.0</td>\n",
              "      <td>0.0</td>\n",
              "      <td>0.0</td>\n",
              "      <td>0.0</td>\n",
              "      <td>0.0</td>\n",
              "      <td>0.0</td>\n",
              "      <td>0.0</td>\n",
              "      <td>0.0</td>\n",
              "    </tr>\n",
              "    <tr>\n",
              "      <th>2</th>\n",
              "      <td>2017-01-03</td>\n",
              "      <td>Alabama</td>\n",
              "      <td>0</td>\n",
              "      <td>0.0</td>\n",
              "      <td>0.0</td>\n",
              "      <td>Winter</td>\n",
              "      <td>2.6875</td>\n",
              "      <td>0.3750</td>\n",
              "      <td>0.0</td>\n",
              "      <td>0.0</td>\n",
              "      <td>...</td>\n",
              "      <td>12.0000</td>\n",
              "      <td>1.0</td>\n",
              "      <td>1.0</td>\n",
              "      <td>0.0</td>\n",
              "      <td>0.0</td>\n",
              "      <td>0.0</td>\n",
              "      <td>0.0</td>\n",
              "      <td>0.0</td>\n",
              "      <td>0.0</td>\n",
              "      <td>0.0</td>\n",
              "    </tr>\n",
              "    <tr>\n",
              "      <th>3</th>\n",
              "      <td>2017-01-04</td>\n",
              "      <td>Alabama</td>\n",
              "      <td>0</td>\n",
              "      <td>0.0</td>\n",
              "      <td>0.0</td>\n",
              "      <td>Winter</td>\n",
              "      <td>4.0375</td>\n",
              "      <td>0.0000</td>\n",
              "      <td>0.0</td>\n",
              "      <td>0.0</td>\n",
              "      <td>...</td>\n",
              "      <td>4.0375</td>\n",
              "      <td>1.0</td>\n",
              "      <td>0.0</td>\n",
              "      <td>0.0</td>\n",
              "      <td>0.0</td>\n",
              "      <td>0.0</td>\n",
              "      <td>0.0</td>\n",
              "      <td>0.0</td>\n",
              "      <td>0.0</td>\n",
              "      <td>0.0</td>\n",
              "    </tr>\n",
              "    <tr>\n",
              "      <th>4</th>\n",
              "      <td>2017-01-05</td>\n",
              "      <td>Alabama</td>\n",
              "      <td>0</td>\n",
              "      <td>0.0</td>\n",
              "      <td>0.0</td>\n",
              "      <td>Winter</td>\n",
              "      <td>2.1625</td>\n",
              "      <td>0.1250</td>\n",
              "      <td>0.0</td>\n",
              "      <td>0.0</td>\n",
              "      <td>...</td>\n",
              "      <td>1.4250</td>\n",
              "      <td>1.0</td>\n",
              "      <td>0.0</td>\n",
              "      <td>0.0</td>\n",
              "      <td>0.0</td>\n",
              "      <td>0.0</td>\n",
              "      <td>0.0</td>\n",
              "      <td>0.0</td>\n",
              "      <td>0.0</td>\n",
              "      <td>0.0</td>\n",
              "    </tr>\n",
              "  </tbody>\n",
              "</table>\n",
              "<p>5 rows × 21 columns</p>\n",
              "</div>"
            ],
            "text/plain": [
              "         Date    State  Outage  Number of Customers Affected  \\\n",
              "0  2017-01-01  Alabama       0                           0.0   \n",
              "1  2017-01-02  Alabama       0                           0.0   \n",
              "2  2017-01-03  Alabama       0                           0.0   \n",
              "3  2017-01-04  Alabama       0                           0.0   \n",
              "4  2017-01-05  Alabama       0                           0.0   \n",
              "\n",
              "   Num Counties Affected  Season    AWND     PRCP  SNOW  SNWD  ...     TMIN  \\\n",
              "0                    0.0  Winter  3.1875  57.9625   0.0   0.0  ...  12.8375   \n",
              "1                    0.0  Winter  4.0625  72.2625   0.0   0.0  ...  15.9625   \n",
              "2                    0.0  Winter  2.6875   0.3750   0.0   0.0  ...  12.0000   \n",
              "3                    0.0  Winter  4.0375   0.0000   0.0   0.0  ...   4.0375   \n",
              "4                    0.0  Winter  2.1625   0.1250   0.0   0.0  ...   1.4250   \n",
              "\n",
              "   Fog  Thunder  Hail  Dust  Tornado  Wind  Rain  Snow  hours  \n",
              "0  1.0      1.0   0.0   0.0      0.0   0.0   0.0   0.0    0.0  \n",
              "1  1.0      1.0   0.0   0.0      0.0   0.0   0.0   0.0    0.0  \n",
              "2  1.0      1.0   0.0   0.0      0.0   0.0   0.0   0.0    0.0  \n",
              "3  1.0      0.0   0.0   0.0      0.0   0.0   0.0   0.0    0.0  \n",
              "4  1.0      0.0   0.0   0.0      0.0   0.0   0.0   0.0    0.0  \n",
              "\n",
              "[5 rows x 21 columns]"
            ]
          },
          "execution_count": 62,
          "metadata": {},
          "output_type": "execute_result"
        }
      ],
      "source": [
        "df = pd.read_csv(r\"data/final_data.csv\")\n",
        "df.head()"
      ]
    },
    {
      "cell_type": "markdown",
      "metadata": {
        "id": "NZwnLBelf-5I"
      },
      "source": [
        "## Exploring the data features"
      ]
    },
    {
      "cell_type": "code",
      "execution_count": null,
      "metadata": {
        "colab": {
          "base_uri": "https://localhost:8080/"
        },
        "id": "X-ltN4-PfzX0",
        "outputId": "0b045874-5652-4943-cbd7-3b3386cba6f6"
      },
      "outputs": [],
      "source": [
        "df.shape"
      ]
    },
    {
      "cell_type": "code",
      "execution_count": null,
      "metadata": {
        "id": "YZXmO2oIgDRy"
      },
      "outputs": [],
      "source": [
        "#function to calculate descriptive statistics of numerical data\n",
        "def stats(data):\n",
        "    missing = np.count_nonzero(np.isnan(np.array(data,dtype='float64')))\n",
        "    data = data[~pd.isnull(data)]\n",
        "    median = round(np.median(data),2)\n",
        "    std = round(np.std(data),2)\n",
        "    mean = round(np.mean(data),2)\n",
        "    minumum = round(np.min(data),2)\n",
        "    maximum = round(np.max(data),2)\n",
        "    return missing, mean, median, std, minumum, maximum\n",
        "\n",
        "#function to calculate descriptive statistics of categorical data\n",
        "def stats_categorial(data):\n",
        "    missing = sum(pd.isnull(data))\n",
        "    data = data[~pd.isnull(data)]\n",
        "    values, counts = np.unique(data, return_counts=True)\n",
        "    s = ''\n",
        "    for i in range(len(values)):\n",
        "        s = s+values[i]+'('+str(counts[i])+')'\n",
        "    return missing, len(values), s\n",
        "\n",
        "#function to check whether a column in a dataframe is numeric\n",
        "def isnumeric(data):\n",
        "    try:\n",
        "        [float(i) for i in data]\n",
        "        return True\n",
        "    except ValueError:\n",
        "        return False  "
      ]
    },
    {
      "cell_type": "code",
      "execution_count": null,
      "metadata": {
        "id": "uYDRgLRvgF2a"
      },
      "outputs": [],
      "source": [
        "# function to print the descriptive statistics of a given dataframe\n",
        "def brief(df):\n",
        "    df1_array=df.values\n",
        "    column_names=list(df.columns.values)\n",
        "    column_detail_numeric = []\n",
        "    column_detail_categorical = []\n",
        "    index = []\n",
        "    cat_index = []\n",
        "    for i in range(df1_array.shape[1]):\n",
        "        index.append(i+1)\n",
        "        if(isnumeric(df1_array[:,i])):\n",
        "            missing, mean, median, std, minumum, maximum = stats(df1_array[:,i])\n",
        "            column=column_names[i]\n",
        "            att_id=(column_names).index(column_names[i])+1\n",
        "            column_detail_numeric.append([att_id,column,missing,mean,median,std,minumum,maximum])\n",
        "        else:\n",
        "            cat_index.append(i)\n",
        "    for i in cat_index:\n",
        "        missing, arity, counts = stats_categorial(df1_array[:,i])\n",
        "        column=column_names[i]\n",
        "        att_id=(column_names).index(column_names[i])+1\n",
        "        column_detail_categorical.append([att_id,column,missing,arity,counts])\n",
        "    \n",
        "    header= ['Attribute_Id', 'Attribute_Name','Missing','Mean','Median','Sdev','Min','Max']\n",
        "    index = index[:len(column_detail_numeric)]\n",
        "    print(\"real valued attributes\")\n",
        "    print(\"~~~~~~~~~~~~~~~~~~~~~~~~~~~~~~~~~~~~~~~~~~~~~~~~~~~~~~~~~~~~~~~~~~~~~~~~~~~~~~~~~~~~~~~~~~~~~~~~~~~~~~~~~~~\")\n",
        "    print(pd.DataFrame(column_detail_numeric,index,header))  \n",
        "    header_categorical=['Attribute_Id', 'Attribute_Name','Missing','arity','MCV_Counts']\n",
        "    index_categorical=index[:len(column_detail_categorical)]\n",
        "    print(\"symbolic attributes\")\n",
        "    print(\"~~~~~~~~~~~~~~~~~~~~~~~~~~~~~~~~~~~~~~~~~~~~~~~~~~~~~~~~~~~~~~~~~~~~~~~~~~~~~~~~~~~~~~~~~~~~~~~~~~~~~~~~~~~\")\n",
        "    print(pd.DataFrame(column_detail_categorical,index_categorical,header_categorical))      \n",
        "    print(\"\\n\")"
      ]
    },
    {
      "cell_type": "code",
      "execution_count": null,
      "metadata": {
        "colab": {
          "base_uri": "https://localhost:8080/"
        },
        "id": "TKlXpfu3gJq4",
        "outputId": "6da3a430-b3f4-46ed-a92b-a39e781da192"
      },
      "outputs": [],
      "source": [
        "brief(df)  "
      ]
    },
    {
      "cell_type": "code",
      "execution_count": 63,
      "metadata": {
        "colab": {
          "base_uri": "https://localhost:8080/",
          "height": 696
        },
        "id": "79zTB4kpgL80",
        "outputId": "fdd50c80-8c3b-4e3f-c3e7-889764d78243"
      },
      "outputs": [
        {
          "data": {
            "text/html": [
              "<div>\n",
              "<style scoped>\n",
              "    .dataframe tbody tr th:only-of-type {\n",
              "        vertical-align: middle;\n",
              "    }\n",
              "\n",
              "    .dataframe tbody tr th {\n",
              "        vertical-align: top;\n",
              "    }\n",
              "\n",
              "    .dataframe thead th {\n",
              "        text-align: right;\n",
              "    }\n",
              "</style>\n",
              "<table border=\"1\" class=\"dataframe\">\n",
              "  <thead>\n",
              "    <tr style=\"text-align: right;\">\n",
              "      <th></th>\n",
              "      <th>Date</th>\n",
              "      <th>State</th>\n",
              "      <th>Outage</th>\n",
              "      <th>Number of Customers Affected</th>\n",
              "      <th>Num Counties Affected</th>\n",
              "      <th>Season</th>\n",
              "      <th>AWND</th>\n",
              "      <th>PRCP</th>\n",
              "      <th>SNOW</th>\n",
              "      <th>SNWD</th>\n",
              "      <th>...</th>\n",
              "      <th>TMIN</th>\n",
              "      <th>Fog</th>\n",
              "      <th>Thunder</th>\n",
              "      <th>Hail</th>\n",
              "      <th>Dust</th>\n",
              "      <th>Tornado</th>\n",
              "      <th>Wind</th>\n",
              "      <th>Rain</th>\n",
              "      <th>Snow</th>\n",
              "      <th>hours</th>\n",
              "    </tr>\n",
              "  </thead>\n",
              "  <tbody>\n",
              "    <tr>\n",
              "      <th>21</th>\n",
              "      <td>2017-01-22</td>\n",
              "      <td>Alabama</td>\n",
              "      <td>1</td>\n",
              "      <td>29965.0</td>\n",
              "      <td>NaN</td>\n",
              "      <td>Winter</td>\n",
              "      <td>4.325000</td>\n",
              "      <td>26.787500</td>\n",
              "      <td>0.0</td>\n",
              "      <td>0.0</td>\n",
              "      <td>...</td>\n",
              "      <td>11.175000</td>\n",
              "      <td>1.0</td>\n",
              "      <td>1.0</td>\n",
              "      <td>0.0</td>\n",
              "      <td>0.0</td>\n",
              "      <td>0.0</td>\n",
              "      <td>0.0</td>\n",
              "      <td>0.0</td>\n",
              "      <td>0.0</td>\n",
              "      <td>43.433333</td>\n",
              "    </tr>\n",
              "    <tr>\n",
              "      <th>22</th>\n",
              "      <td>2017-01-23</td>\n",
              "      <td>Alabama</td>\n",
              "      <td>1</td>\n",
              "      <td>29965.0</td>\n",
              "      <td>NaN</td>\n",
              "      <td>Winter</td>\n",
              "      <td>5.975000</td>\n",
              "      <td>0.462500</td>\n",
              "      <td>0.0</td>\n",
              "      <td>0.0</td>\n",
              "      <td>...</td>\n",
              "      <td>9.162500</td>\n",
              "      <td>1.0</td>\n",
              "      <td>0.0</td>\n",
              "      <td>0.0</td>\n",
              "      <td>0.0</td>\n",
              "      <td>0.0</td>\n",
              "      <td>0.0</td>\n",
              "      <td>0.0</td>\n",
              "      <td>0.0</td>\n",
              "      <td>43.433333</td>\n",
              "    </tr>\n",
              "    <tr>\n",
              "      <th>92</th>\n",
              "      <td>2017-04-03</td>\n",
              "      <td>Alabama</td>\n",
              "      <td>1</td>\n",
              "      <td>86330.0</td>\n",
              "      <td>NaN</td>\n",
              "      <td>Spring</td>\n",
              "      <td>4.662500</td>\n",
              "      <td>50.862500</td>\n",
              "      <td>0.0</td>\n",
              "      <td>0.0</td>\n",
              "      <td>...</td>\n",
              "      <td>15.712500</td>\n",
              "      <td>1.0</td>\n",
              "      <td>1.0</td>\n",
              "      <td>0.0</td>\n",
              "      <td>0.0</td>\n",
              "      <td>0.0</td>\n",
              "      <td>0.0</td>\n",
              "      <td>0.0</td>\n",
              "      <td>0.0</td>\n",
              "      <td>31.000000</td>\n",
              "    </tr>\n",
              "    <tr>\n",
              "      <th>123</th>\n",
              "      <td>2017-05-04</td>\n",
              "      <td>Alabama</td>\n",
              "      <td>1</td>\n",
              "      <td>60377.0</td>\n",
              "      <td>NaN</td>\n",
              "      <td>Spring</td>\n",
              "      <td>4.912500</td>\n",
              "      <td>23.175000</td>\n",
              "      <td>0.0</td>\n",
              "      <td>0.0</td>\n",
              "      <td>...</td>\n",
              "      <td>11.187500</td>\n",
              "      <td>1.0</td>\n",
              "      <td>1.0</td>\n",
              "      <td>0.0</td>\n",
              "      <td>0.0</td>\n",
              "      <td>0.0</td>\n",
              "      <td>0.0</td>\n",
              "      <td>0.0</td>\n",
              "      <td>0.0</td>\n",
              "      <td>27.000000</td>\n",
              "    </tr>\n",
              "    <tr>\n",
              "      <th>165</th>\n",
              "      <td>2017-06-15</td>\n",
              "      <td>Alabama</td>\n",
              "      <td>1</td>\n",
              "      <td>82713.0</td>\n",
              "      <td>NaN</td>\n",
              "      <td>Summer</td>\n",
              "      <td>2.112500</td>\n",
              "      <td>13.175000</td>\n",
              "      <td>0.0</td>\n",
              "      <td>0.0</td>\n",
              "      <td>...</td>\n",
              "      <td>20.762500</td>\n",
              "      <td>1.0</td>\n",
              "      <td>1.0</td>\n",
              "      <td>0.0</td>\n",
              "      <td>1.0</td>\n",
              "      <td>0.0</td>\n",
              "      <td>0.0</td>\n",
              "      <td>0.0</td>\n",
              "      <td>0.0</td>\n",
              "      <td>39.000000</td>\n",
              "    </tr>\n",
              "    <tr>\n",
              "      <th>...</th>\n",
              "      <td>...</td>\n",
              "      <td>...</td>\n",
              "      <td>...</td>\n",
              "      <td>...</td>\n",
              "      <td>...</td>\n",
              "      <td>...</td>\n",
              "      <td>...</td>\n",
              "      <td>...</td>\n",
              "      <td>...</td>\n",
              "      <td>...</td>\n",
              "      <td>...</td>\n",
              "      <td>...</td>\n",
              "      <td>...</td>\n",
              "      <td>...</td>\n",
              "      <td>...</td>\n",
              "      <td>...</td>\n",
              "      <td>...</td>\n",
              "      <td>...</td>\n",
              "      <td>...</td>\n",
              "      <td>...</td>\n",
              "      <td>...</td>\n",
              "    </tr>\n",
              "    <tr>\n",
              "      <th>78545</th>\n",
              "      <td>2017-06-11</td>\n",
              "      <td>Wisconsin</td>\n",
              "      <td>1</td>\n",
              "      <td>53610.0</td>\n",
              "      <td>NaN</td>\n",
              "      <td>Summer</td>\n",
              "      <td>5.166667</td>\n",
              "      <td>0.000000</td>\n",
              "      <td>0.0</td>\n",
              "      <td>0.0</td>\n",
              "      <td>...</td>\n",
              "      <td>22.766667</td>\n",
              "      <td>0.0</td>\n",
              "      <td>0.0</td>\n",
              "      <td>0.0</td>\n",
              "      <td>0.0</td>\n",
              "      <td>0.0</td>\n",
              "      <td>0.0</td>\n",
              "      <td>0.0</td>\n",
              "      <td>0.0</td>\n",
              "      <td>32.666667</td>\n",
              "    </tr>\n",
              "    <tr>\n",
              "      <th>79314</th>\n",
              "      <td>2019-07-20</td>\n",
              "      <td>Wisconsin</td>\n",
              "      <td>1</td>\n",
              "      <td>50000.0</td>\n",
              "      <td>NaN</td>\n",
              "      <td>Summer</td>\n",
              "      <td>4.500000</td>\n",
              "      <td>30.733333</td>\n",
              "      <td>0.0</td>\n",
              "      <td>0.0</td>\n",
              "      <td>...</td>\n",
              "      <td>19.233333</td>\n",
              "      <td>1.0</td>\n",
              "      <td>1.0</td>\n",
              "      <td>0.0</td>\n",
              "      <td>0.0</td>\n",
              "      <td>0.0</td>\n",
              "      <td>0.0</td>\n",
              "      <td>0.0</td>\n",
              "      <td>0.0</td>\n",
              "      <td>75.666667</td>\n",
              "    </tr>\n",
              "    <tr>\n",
              "      <th>79315</th>\n",
              "      <td>2019-07-21</td>\n",
              "      <td>Wisconsin</td>\n",
              "      <td>1</td>\n",
              "      <td>50000.0</td>\n",
              "      <td>NaN</td>\n",
              "      <td>Summer</td>\n",
              "      <td>2.900000</td>\n",
              "      <td>0.266667</td>\n",
              "      <td>0.0</td>\n",
              "      <td>0.0</td>\n",
              "      <td>...</td>\n",
              "      <td>17.600000</td>\n",
              "      <td>1.0</td>\n",
              "      <td>1.0</td>\n",
              "      <td>0.0</td>\n",
              "      <td>0.0</td>\n",
              "      <td>0.0</td>\n",
              "      <td>0.0</td>\n",
              "      <td>0.0</td>\n",
              "      <td>0.0</td>\n",
              "      <td>75.666667</td>\n",
              "    </tr>\n",
              "    <tr>\n",
              "      <th>79316</th>\n",
              "      <td>2019-07-22</td>\n",
              "      <td>Wisconsin</td>\n",
              "      <td>1</td>\n",
              "      <td>50000.0</td>\n",
              "      <td>NaN</td>\n",
              "      <td>Summer</td>\n",
              "      <td>3.900000</td>\n",
              "      <td>0.000000</td>\n",
              "      <td>0.0</td>\n",
              "      <td>0.0</td>\n",
              "      <td>...</td>\n",
              "      <td>15.933333</td>\n",
              "      <td>0.0</td>\n",
              "      <td>0.0</td>\n",
              "      <td>0.0</td>\n",
              "      <td>0.0</td>\n",
              "      <td>0.0</td>\n",
              "      <td>0.0</td>\n",
              "      <td>0.0</td>\n",
              "      <td>0.0</td>\n",
              "      <td>75.666667</td>\n",
              "    </tr>\n",
              "    <tr>\n",
              "      <th>79317</th>\n",
              "      <td>2019-07-23</td>\n",
              "      <td>Wisconsin</td>\n",
              "      <td>1</td>\n",
              "      <td>50000.0</td>\n",
              "      <td>NaN</td>\n",
              "      <td>Summer</td>\n",
              "      <td>2.833333</td>\n",
              "      <td>0.000000</td>\n",
              "      <td>0.0</td>\n",
              "      <td>0.0</td>\n",
              "      <td>...</td>\n",
              "      <td>15.766667</td>\n",
              "      <td>0.0</td>\n",
              "      <td>0.0</td>\n",
              "      <td>0.0</td>\n",
              "      <td>0.0</td>\n",
              "      <td>0.0</td>\n",
              "      <td>0.0</td>\n",
              "      <td>0.0</td>\n",
              "      <td>0.0</td>\n",
              "      <td>75.666667</td>\n",
              "    </tr>\n",
              "  </tbody>\n",
              "</table>\n",
              "<p>946 rows × 21 columns</p>\n",
              "</div>"
            ],
            "text/plain": [
              "             Date      State  Outage  Number of Customers Affected  \\\n",
              "21     2017-01-22    Alabama       1                       29965.0   \n",
              "22     2017-01-23    Alabama       1                       29965.0   \n",
              "92     2017-04-03    Alabama       1                       86330.0   \n",
              "123    2017-05-04    Alabama       1                       60377.0   \n",
              "165    2017-06-15    Alabama       1                       82713.0   \n",
              "...           ...        ...     ...                           ...   \n",
              "78545  2017-06-11  Wisconsin       1                       53610.0   \n",
              "79314  2019-07-20  Wisconsin       1                       50000.0   \n",
              "79315  2019-07-21  Wisconsin       1                       50000.0   \n",
              "79316  2019-07-22  Wisconsin       1                       50000.0   \n",
              "79317  2019-07-23  Wisconsin       1                       50000.0   \n",
              "\n",
              "       Num Counties Affected  Season      AWND       PRCP  SNOW  SNWD  ...  \\\n",
              "21                       NaN  Winter  4.325000  26.787500   0.0   0.0  ...   \n",
              "22                       NaN  Winter  5.975000   0.462500   0.0   0.0  ...   \n",
              "92                       NaN  Spring  4.662500  50.862500   0.0   0.0  ...   \n",
              "123                      NaN  Spring  4.912500  23.175000   0.0   0.0  ...   \n",
              "165                      NaN  Summer  2.112500  13.175000   0.0   0.0  ...   \n",
              "...                      ...     ...       ...        ...   ...   ...  ...   \n",
              "78545                    NaN  Summer  5.166667   0.000000   0.0   0.0  ...   \n",
              "79314                    NaN  Summer  4.500000  30.733333   0.0   0.0  ...   \n",
              "79315                    NaN  Summer  2.900000   0.266667   0.0   0.0  ...   \n",
              "79316                    NaN  Summer  3.900000   0.000000   0.0   0.0  ...   \n",
              "79317                    NaN  Summer  2.833333   0.000000   0.0   0.0  ...   \n",
              "\n",
              "            TMIN  Fog  Thunder  Hail  Dust  Tornado  Wind  Rain  Snow  \\\n",
              "21     11.175000  1.0      1.0   0.0   0.0      0.0   0.0   0.0   0.0   \n",
              "22      9.162500  1.0      0.0   0.0   0.0      0.0   0.0   0.0   0.0   \n",
              "92     15.712500  1.0      1.0   0.0   0.0      0.0   0.0   0.0   0.0   \n",
              "123    11.187500  1.0      1.0   0.0   0.0      0.0   0.0   0.0   0.0   \n",
              "165    20.762500  1.0      1.0   0.0   1.0      0.0   0.0   0.0   0.0   \n",
              "...          ...  ...      ...   ...   ...      ...   ...   ...   ...   \n",
              "78545  22.766667  0.0      0.0   0.0   0.0      0.0   0.0   0.0   0.0   \n",
              "79314  19.233333  1.0      1.0   0.0   0.0      0.0   0.0   0.0   0.0   \n",
              "79315  17.600000  1.0      1.0   0.0   0.0      0.0   0.0   0.0   0.0   \n",
              "79316  15.933333  0.0      0.0   0.0   0.0      0.0   0.0   0.0   0.0   \n",
              "79317  15.766667  0.0      0.0   0.0   0.0      0.0   0.0   0.0   0.0   \n",
              "\n",
              "           hours  \n",
              "21     43.433333  \n",
              "22     43.433333  \n",
              "92     31.000000  \n",
              "123    27.000000  \n",
              "165    39.000000  \n",
              "...          ...  \n",
              "78545  32.666667  \n",
              "79314  75.666667  \n",
              "79315  75.666667  \n",
              "79316  75.666667  \n",
              "79317  75.666667  \n",
              "\n",
              "[946 rows x 21 columns]"
            ]
          },
          "execution_count": 63,
          "metadata": {},
          "output_type": "execute_result"
        }
      ],
      "source": [
        "no_counties_affected = df[df['Num Counties Affected'].isnull()]\n",
        "no_counties_affected"
      ]
    },
    {
      "cell_type": "code",
      "execution_count": 64,
      "metadata": {
        "colab": {
          "base_uri": "https://localhost:8080/"
        },
        "id": "aairKrDmgQSy",
        "outputId": "210f1988-3016-4187-af9b-a6ed1b3daee8"
      },
      "outputs": [
        {
          "data": {
            "text/plain": [
              "array([1])"
            ]
          },
          "execution_count": 64,
          "metadata": {},
          "output_type": "execute_result"
        }
      ],
      "source": [
        "no_counties_affected['Outage'].unique()"
      ]
    },
    {
      "cell_type": "code",
      "execution_count": 65,
      "metadata": {
        "colab": {
          "base_uri": "https://localhost:8080/"
        },
        "id": "hZ57YW6agSsr",
        "outputId": "59d80bca-9495-49fd-8585-22eb03d030d0"
      },
      "outputs": [
        {
          "data": {
            "text/plain": [
              "array([0.])"
            ]
          },
          "execution_count": 65,
          "metadata": {},
          "output_type": "execute_result"
        }
      ],
      "source": [
        "df['Rain'].unique()"
      ]
    },
    {
      "cell_type": "code",
      "execution_count": 66,
      "metadata": {
        "colab": {
          "base_uri": "https://localhost:8080/",
          "height": 206
        },
        "id": "L193RpMVgUbG",
        "outputId": "0e582b44-dcee-441c-b2bb-d91bda9c95ae"
      },
      "outputs": [
        {
          "data": {
            "text/html": [
              "<div>\n",
              "<style scoped>\n",
              "    .dataframe tbody tr th:only-of-type {\n",
              "        vertical-align: middle;\n",
              "    }\n",
              "\n",
              "    .dataframe tbody tr th {\n",
              "        vertical-align: top;\n",
              "    }\n",
              "\n",
              "    .dataframe thead th {\n",
              "        text-align: right;\n",
              "    }\n",
              "</style>\n",
              "<table border=\"1\" class=\"dataframe\">\n",
              "  <thead>\n",
              "    <tr style=\"text-align: right;\">\n",
              "      <th></th>\n",
              "      <th>State</th>\n",
              "      <th>Outage</th>\n",
              "      <th>Number of Customers Affected</th>\n",
              "      <th>Season</th>\n",
              "      <th>AWND</th>\n",
              "      <th>PRCP</th>\n",
              "      <th>SNOW</th>\n",
              "      <th>SNWD</th>\n",
              "      <th>TMAX</th>\n",
              "      <th>TMIN</th>\n",
              "      <th>Fog</th>\n",
              "      <th>Thunder</th>\n",
              "      <th>Hail</th>\n",
              "      <th>Dust</th>\n",
              "      <th>Tornado</th>\n",
              "      <th>Wind</th>\n",
              "      <th>Snow</th>\n",
              "      <th>hours</th>\n",
              "    </tr>\n",
              "  </thead>\n",
              "  <tbody>\n",
              "    <tr>\n",
              "      <th>0</th>\n",
              "      <td>Alabama</td>\n",
              "      <td>0</td>\n",
              "      <td>0.0</td>\n",
              "      <td>Winter</td>\n",
              "      <td>3.1875</td>\n",
              "      <td>57.9625</td>\n",
              "      <td>0.0</td>\n",
              "      <td>0.0</td>\n",
              "      <td>19.712500</td>\n",
              "      <td>12.8375</td>\n",
              "      <td>1.0</td>\n",
              "      <td>1.0</td>\n",
              "      <td>0.0</td>\n",
              "      <td>0.0</td>\n",
              "      <td>0.0</td>\n",
              "      <td>0.0</td>\n",
              "      <td>0.0</td>\n",
              "      <td>0.0</td>\n",
              "    </tr>\n",
              "    <tr>\n",
              "      <th>1</th>\n",
              "      <td>Alabama</td>\n",
              "      <td>0</td>\n",
              "      <td>0.0</td>\n",
              "      <td>Winter</td>\n",
              "      <td>4.0625</td>\n",
              "      <td>72.2625</td>\n",
              "      <td>0.0</td>\n",
              "      <td>0.0</td>\n",
              "      <td>20.537500</td>\n",
              "      <td>15.9625</td>\n",
              "      <td>1.0</td>\n",
              "      <td>1.0</td>\n",
              "      <td>0.0</td>\n",
              "      <td>0.0</td>\n",
              "      <td>0.0</td>\n",
              "      <td>0.0</td>\n",
              "      <td>0.0</td>\n",
              "      <td>0.0</td>\n",
              "    </tr>\n",
              "    <tr>\n",
              "      <th>2</th>\n",
              "      <td>Alabama</td>\n",
              "      <td>0</td>\n",
              "      <td>0.0</td>\n",
              "      <td>Winter</td>\n",
              "      <td>2.6875</td>\n",
              "      <td>0.3750</td>\n",
              "      <td>0.0</td>\n",
              "      <td>0.0</td>\n",
              "      <td>20.071429</td>\n",
              "      <td>12.0000</td>\n",
              "      <td>1.0</td>\n",
              "      <td>1.0</td>\n",
              "      <td>0.0</td>\n",
              "      <td>0.0</td>\n",
              "      <td>0.0</td>\n",
              "      <td>0.0</td>\n",
              "      <td>0.0</td>\n",
              "      <td>0.0</td>\n",
              "    </tr>\n",
              "    <tr>\n",
              "      <th>3</th>\n",
              "      <td>Alabama</td>\n",
              "      <td>0</td>\n",
              "      <td>0.0</td>\n",
              "      <td>Winter</td>\n",
              "      <td>4.0375</td>\n",
              "      <td>0.0000</td>\n",
              "      <td>0.0</td>\n",
              "      <td>0.0</td>\n",
              "      <td>15.075000</td>\n",
              "      <td>4.0375</td>\n",
              "      <td>1.0</td>\n",
              "      <td>0.0</td>\n",
              "      <td>0.0</td>\n",
              "      <td>0.0</td>\n",
              "      <td>0.0</td>\n",
              "      <td>0.0</td>\n",
              "      <td>0.0</td>\n",
              "      <td>0.0</td>\n",
              "    </tr>\n",
              "    <tr>\n",
              "      <th>4</th>\n",
              "      <td>Alabama</td>\n",
              "      <td>0</td>\n",
              "      <td>0.0</td>\n",
              "      <td>Winter</td>\n",
              "      <td>2.1625</td>\n",
              "      <td>0.1250</td>\n",
              "      <td>0.0</td>\n",
              "      <td>0.0</td>\n",
              "      <td>14.387500</td>\n",
              "      <td>1.4250</td>\n",
              "      <td>1.0</td>\n",
              "      <td>0.0</td>\n",
              "      <td>0.0</td>\n",
              "      <td>0.0</td>\n",
              "      <td>0.0</td>\n",
              "      <td>0.0</td>\n",
              "      <td>0.0</td>\n",
              "      <td>0.0</td>\n",
              "    </tr>\n",
              "  </tbody>\n",
              "</table>\n",
              "</div>"
            ],
            "text/plain": [
              "     State  Outage  Number of Customers Affected  Season    AWND     PRCP  \\\n",
              "0  Alabama       0                           0.0  Winter  3.1875  57.9625   \n",
              "1  Alabama       0                           0.0  Winter  4.0625  72.2625   \n",
              "2  Alabama       0                           0.0  Winter  2.6875   0.3750   \n",
              "3  Alabama       0                           0.0  Winter  4.0375   0.0000   \n",
              "4  Alabama       0                           0.0  Winter  2.1625   0.1250   \n",
              "\n",
              "   SNOW  SNWD       TMAX     TMIN  Fog  Thunder  Hail  Dust  Tornado  Wind  \\\n",
              "0   0.0   0.0  19.712500  12.8375  1.0      1.0   0.0   0.0      0.0   0.0   \n",
              "1   0.0   0.0  20.537500  15.9625  1.0      1.0   0.0   0.0      0.0   0.0   \n",
              "2   0.0   0.0  20.071429  12.0000  1.0      1.0   0.0   0.0      0.0   0.0   \n",
              "3   0.0   0.0  15.075000   4.0375  1.0      0.0   0.0   0.0      0.0   0.0   \n",
              "4   0.0   0.0  14.387500   1.4250  1.0      0.0   0.0   0.0      0.0   0.0   \n",
              "\n",
              "   Snow  hours  \n",
              "0   0.0    0.0  \n",
              "1   0.0    0.0  \n",
              "2   0.0    0.0  \n",
              "3   0.0    0.0  \n",
              "4   0.0    0.0  "
            ]
          },
          "execution_count": 66,
          "metadata": {},
          "output_type": "execute_result"
        }
      ],
      "source": [
        "df = df.drop(columns = ['Date', 'Num Counties Affected', 'Rain'], axis=1)\n",
        "df.head()"
      ]
    },
    {
      "cell_type": "code",
      "execution_count": 67,
      "metadata": {},
      "outputs": [
        {
          "data": {
            "text/plain": [
              "array(['Alabama', 'Alaska', 'Arizona', 'Arkansas', 'California',\n",
              "       'Colorado', 'Connecticut', 'Delaware', 'Florida', 'Georgia',\n",
              "       'Hawaii', 'Idaho', 'Illinois', 'Indiana', 'Iowa', 'Kansas',\n",
              "       'Kentucky', 'Louisiana', 'Maine', 'Maryland', 'Massachusetts',\n",
              "       'Michigan', 'Minnesota', 'Mississippi', 'Missouri', 'Montana',\n",
              "       'Nebraska', 'Nevada', 'New Hampshire', 'New Jersey', 'New Mexico',\n",
              "       'New York', 'North Carolina', 'North Dakota', 'Ohio', 'Oklahoma',\n",
              "       'Oregon', 'Pennsylvania', 'Rhode Island', 'South Carolina',\n",
              "       'South Dakota', 'Tennessee', 'Texas', 'Utah', 'Vermont',\n",
              "       'Virginia', 'Washington', 'West Virginia', 'Wisconsin', 'Wyoming'],\n",
              "      dtype=object)"
            ]
          },
          "execution_count": 67,
          "metadata": {},
          "output_type": "execute_result"
        }
      ],
      "source": [
        "df.State.unique()"
      ]
    },
    {
      "cell_type": "markdown",
      "metadata": {
        "id": "RHHlr82cgZMt"
      },
      "source": [
        "## Handling missing data"
      ]
    },
    {
      "cell_type": "code",
      "execution_count": 68,
      "metadata": {
        "colab": {
          "base_uri": "https://localhost:8080/"
        },
        "id": "lNKNccl4gWnE",
        "outputId": "bf0bd710-d122-4576-ec9a-c6959a057a30"
      },
      "outputs": [
        {
          "data": {
            "text/plain": [
              "State                           0.000000\n",
              "Wind                            0.000000\n",
              "Tornado                         0.000000\n",
              "Dust                            0.000000\n",
              "Hail                            0.000000\n",
              "Thunder                         0.000000\n",
              "Fog                             0.000000\n",
              "TMIN                            0.000000\n",
              "TMAX                            0.000000\n",
              "PRCP                            0.000000\n",
              "Season                          0.000000\n",
              "Outage                          0.000000\n",
              "Snow                            0.000000\n",
              "hours                           0.000000\n",
              "AWND                            0.000576\n",
              "Number of Customers Affected    0.000919\n",
              "SNOW                            0.019743\n",
              "SNWD                            0.040098\n",
              "dtype: float64"
            ]
          },
          "execution_count": 68,
          "metadata": {},
          "output_type": "execute_result"
        }
      ],
      "source": [
        "df.isnull().mean().sort_values(ascending=True)"
      ]
    },
    {
      "cell_type": "code",
      "execution_count": 69,
      "metadata": {
        "colab": {
          "base_uri": "https://localhost:8080/"
        },
        "id": "SpCQaaivgcFF",
        "outputId": "b25e1967-0fe2-4b3b-ec8d-de3f48361532"
      },
      "outputs": [
        {
          "data": {
            "text/plain": [
              "State                           0.0\n",
              "Wind                            0.0\n",
              "Tornado                         0.0\n",
              "Dust                            0.0\n",
              "Hail                            0.0\n",
              "Thunder                         0.0\n",
              "Fog                             0.0\n",
              "TMIN                            0.0\n",
              "TMAX                            0.0\n",
              "SNWD                            0.0\n",
              "SNOW                            0.0\n",
              "PRCP                            0.0\n",
              "AWND                            0.0\n",
              "Season                          0.0\n",
              "Number of Customers Affected    0.0\n",
              "Outage                          0.0\n",
              "Snow                            0.0\n",
              "hours                           0.0\n",
              "dtype: float64"
            ]
          },
          "execution_count": 69,
          "metadata": {},
          "output_type": "execute_result"
        }
      ],
      "source": [
        "df = df.dropna()\n",
        "df.isnull().mean().sort_values(ascending=True)"
      ]
    },
    {
      "cell_type": "markdown",
      "metadata": {
        "id": "Hk7Qpfx6ghW1"
      },
      "source": [
        "Dropping the data since missingness is less than 1%"
      ]
    },
    {
      "cell_type": "code",
      "execution_count": 71,
      "metadata": {},
      "outputs": [
        {
          "data": {
            "text/plain": [
              "array(['Alabama', 'Alaska', 'Arizona', 'Arkansas', 'California',\n",
              "       'Colorado', 'Connecticut', 'Delaware', 'Florida', 'Georgia',\n",
              "       'Idaho', 'Illinois', 'Indiana', 'Iowa', 'Kansas', 'Kentucky',\n",
              "       'Louisiana', 'Maine', 'Maryland', 'Michigan', 'Minnesota',\n",
              "       'Mississippi', 'Missouri', 'Montana', 'Nebraska', 'Nevada',\n",
              "       'New Hampshire', 'New Jersey', 'New Mexico', 'New York',\n",
              "       'North Carolina', 'North Dakota', 'Ohio', 'Oklahoma', 'Oregon',\n",
              "       'Pennsylvania', 'Rhode Island', 'South Carolina', 'South Dakota',\n",
              "       'Tennessee', 'Texas', 'Utah', 'Vermont', 'Virginia', 'Washington',\n",
              "       'West Virginia', 'Wisconsin', 'Wyoming'], dtype=object)"
            ]
          },
          "execution_count": 71,
          "metadata": {},
          "output_type": "execute_result"
        }
      ],
      "source": [
        "df.State.unique()"
      ]
    },
    {
      "cell_type": "markdown",
      "metadata": {
        "id": "WVp72H1Vgj2_"
      },
      "source": [
        "## Treating categorical value"
      ]
    },
    {
      "cell_type": "code",
      "execution_count": 72,
      "metadata": {
        "colab": {
          "base_uri": "https://localhost:8080/",
          "height": 334
        },
        "id": "C_XGKDyogemJ",
        "outputId": "b1ad5877-78ce-4485-f012-e64330111f97"
      },
      "outputs": [
        {
          "data": {
            "text/html": [
              "<div>\n",
              "<style scoped>\n",
              "    .dataframe tbody tr th:only-of-type {\n",
              "        vertical-align: middle;\n",
              "    }\n",
              "\n",
              "    .dataframe tbody tr th {\n",
              "        vertical-align: top;\n",
              "    }\n",
              "\n",
              "    .dataframe thead th {\n",
              "        text-align: right;\n",
              "    }\n",
              "</style>\n",
              "<table border=\"1\" class=\"dataframe\">\n",
              "  <thead>\n",
              "    <tr style=\"text-align: right;\">\n",
              "      <th></th>\n",
              "      <th>State</th>\n",
              "      <th>Outage</th>\n",
              "      <th>Number of Customers Affected</th>\n",
              "      <th>AWND</th>\n",
              "      <th>PRCP</th>\n",
              "      <th>SNOW</th>\n",
              "      <th>SNWD</th>\n",
              "      <th>TMAX</th>\n",
              "      <th>TMIN</th>\n",
              "      <th>Fog</th>\n",
              "      <th>...</th>\n",
              "      <th>Hail</th>\n",
              "      <th>Dust</th>\n",
              "      <th>Tornado</th>\n",
              "      <th>Wind</th>\n",
              "      <th>Snow</th>\n",
              "      <th>hours</th>\n",
              "      <th>Season_Fall</th>\n",
              "      <th>Season_Spring</th>\n",
              "      <th>Season_Summer</th>\n",
              "      <th>Season_Winter</th>\n",
              "    </tr>\n",
              "  </thead>\n",
              "  <tbody>\n",
              "    <tr>\n",
              "      <th>0</th>\n",
              "      <td>0</td>\n",
              "      <td>0</td>\n",
              "      <td>0.0</td>\n",
              "      <td>3.1875</td>\n",
              "      <td>57.9625</td>\n",
              "      <td>0.0</td>\n",
              "      <td>0.0</td>\n",
              "      <td>19.712500</td>\n",
              "      <td>12.8375</td>\n",
              "      <td>1.0</td>\n",
              "      <td>...</td>\n",
              "      <td>0.0</td>\n",
              "      <td>0.0</td>\n",
              "      <td>0.0</td>\n",
              "      <td>0.0</td>\n",
              "      <td>0.0</td>\n",
              "      <td>0.0</td>\n",
              "      <td>0</td>\n",
              "      <td>0</td>\n",
              "      <td>0</td>\n",
              "      <td>1</td>\n",
              "    </tr>\n",
              "    <tr>\n",
              "      <th>1</th>\n",
              "      <td>0</td>\n",
              "      <td>0</td>\n",
              "      <td>0.0</td>\n",
              "      <td>4.0625</td>\n",
              "      <td>72.2625</td>\n",
              "      <td>0.0</td>\n",
              "      <td>0.0</td>\n",
              "      <td>20.537500</td>\n",
              "      <td>15.9625</td>\n",
              "      <td>1.0</td>\n",
              "      <td>...</td>\n",
              "      <td>0.0</td>\n",
              "      <td>0.0</td>\n",
              "      <td>0.0</td>\n",
              "      <td>0.0</td>\n",
              "      <td>0.0</td>\n",
              "      <td>0.0</td>\n",
              "      <td>0</td>\n",
              "      <td>0</td>\n",
              "      <td>0</td>\n",
              "      <td>1</td>\n",
              "    </tr>\n",
              "    <tr>\n",
              "      <th>2</th>\n",
              "      <td>0</td>\n",
              "      <td>0</td>\n",
              "      <td>0.0</td>\n",
              "      <td>2.6875</td>\n",
              "      <td>0.3750</td>\n",
              "      <td>0.0</td>\n",
              "      <td>0.0</td>\n",
              "      <td>20.071429</td>\n",
              "      <td>12.0000</td>\n",
              "      <td>1.0</td>\n",
              "      <td>...</td>\n",
              "      <td>0.0</td>\n",
              "      <td>0.0</td>\n",
              "      <td>0.0</td>\n",
              "      <td>0.0</td>\n",
              "      <td>0.0</td>\n",
              "      <td>0.0</td>\n",
              "      <td>0</td>\n",
              "      <td>0</td>\n",
              "      <td>0</td>\n",
              "      <td>1</td>\n",
              "    </tr>\n",
              "    <tr>\n",
              "      <th>3</th>\n",
              "      <td>0</td>\n",
              "      <td>0</td>\n",
              "      <td>0.0</td>\n",
              "      <td>4.0375</td>\n",
              "      <td>0.0000</td>\n",
              "      <td>0.0</td>\n",
              "      <td>0.0</td>\n",
              "      <td>15.075000</td>\n",
              "      <td>4.0375</td>\n",
              "      <td>1.0</td>\n",
              "      <td>...</td>\n",
              "      <td>0.0</td>\n",
              "      <td>0.0</td>\n",
              "      <td>0.0</td>\n",
              "      <td>0.0</td>\n",
              "      <td>0.0</td>\n",
              "      <td>0.0</td>\n",
              "      <td>0</td>\n",
              "      <td>0</td>\n",
              "      <td>0</td>\n",
              "      <td>1</td>\n",
              "    </tr>\n",
              "    <tr>\n",
              "      <th>4</th>\n",
              "      <td>0</td>\n",
              "      <td>0</td>\n",
              "      <td>0.0</td>\n",
              "      <td>2.1625</td>\n",
              "      <td>0.1250</td>\n",
              "      <td>0.0</td>\n",
              "      <td>0.0</td>\n",
              "      <td>14.387500</td>\n",
              "      <td>1.4250</td>\n",
              "      <td>1.0</td>\n",
              "      <td>...</td>\n",
              "      <td>0.0</td>\n",
              "      <td>0.0</td>\n",
              "      <td>0.0</td>\n",
              "      <td>0.0</td>\n",
              "      <td>0.0</td>\n",
              "      <td>0.0</td>\n",
              "      <td>0</td>\n",
              "      <td>0</td>\n",
              "      <td>0</td>\n",
              "      <td>1</td>\n",
              "    </tr>\n",
              "  </tbody>\n",
              "</table>\n",
              "<p>5 rows × 21 columns</p>\n",
              "</div>"
            ],
            "text/plain": [
              "   State  Outage  Number of Customers Affected    AWND     PRCP  SNOW  SNWD  \\\n",
              "0      0       0                           0.0  3.1875  57.9625   0.0   0.0   \n",
              "1      0       0                           0.0  4.0625  72.2625   0.0   0.0   \n",
              "2      0       0                           0.0  2.6875   0.3750   0.0   0.0   \n",
              "3      0       0                           0.0  4.0375   0.0000   0.0   0.0   \n",
              "4      0       0                           0.0  2.1625   0.1250   0.0   0.0   \n",
              "\n",
              "        TMAX     TMIN  Fog  ...  Hail  Dust  Tornado  Wind  Snow  hours  \\\n",
              "0  19.712500  12.8375  1.0  ...   0.0   0.0      0.0   0.0   0.0    0.0   \n",
              "1  20.537500  15.9625  1.0  ...   0.0   0.0      0.0   0.0   0.0    0.0   \n",
              "2  20.071429  12.0000  1.0  ...   0.0   0.0      0.0   0.0   0.0    0.0   \n",
              "3  15.075000   4.0375  1.0  ...   0.0   0.0      0.0   0.0   0.0    0.0   \n",
              "4  14.387500   1.4250  1.0  ...   0.0   0.0      0.0   0.0   0.0    0.0   \n",
              "\n",
              "   Season_Fall  Season_Spring  Season_Summer  Season_Winter  \n",
              "0            0              0              0              1  \n",
              "1            0              0              0              1  \n",
              "2            0              0              0              1  \n",
              "3            0              0              0              1  \n",
              "4            0              0              0              1  \n",
              "\n",
              "[5 rows x 21 columns]"
            ]
          },
          "execution_count": 72,
          "metadata": {},
          "output_type": "execute_result"
        }
      ],
      "source": [
        "#label encoding for State\n",
        "le = LabelEncoder()\n",
        "df['State'] = le.fit_transform(df['State'])\n",
        "\n",
        "#onehot encoding for Season\n",
        "df = pd.concat([df, pd.get_dummies(df['Season'], prefix='Season')], axis=1)\n",
        "df = df.drop(columns=['Season'], axis=1)\n",
        "df.head()"
      ]
    },
    {
      "cell_type": "markdown",
      "metadata": {
        "id": "6ExnA6HfgsZl"
      },
      "source": [
        "## Finding corelation with target variable"
      ]
    },
    {
      "cell_type": "code",
      "execution_count": null,
      "metadata": {
        "colab": {
          "base_uri": "https://localhost:8080/",
          "height": 708
        },
        "id": "_GolTIyWgnVc",
        "outputId": "974442cc-496a-4e63-e461-e88bbc8f4b3c"
      },
      "outputs": [],
      "source": [
        "corr = df.corr()[\"Number of Customers Affected\"].reset_index().sort_values(by=\"Number of Customers Affected\",ascending=False)\n",
        "corr"
      ]
    },
    {
      "cell_type": "code",
      "execution_count": null,
      "metadata": {
        "id": "jF1U68MzhBIG"
      },
      "outputs": [],
      "source": [
        "#correlation heatmap of dataset\n",
        "def correlation_heatmap(df):\n",
        "    _ , ax = plt.subplots(figsize =(20, 20))\n",
        "    colormap = sns.diverging_palette(220, 10, as_cmap = True)\n",
        "    \n",
        "    _ = sns.heatmap(\n",
        "        df.corr(), \n",
        "        cmap = colormap,\n",
        "        square=True, \n",
        "        cbar_kws={'shrink':.9 }, \n",
        "        ax=ax,\n",
        "        annot=True, \n",
        "        linewidths=0.1,vmax=1.0, linecolor='white',\n",
        "        annot_kws={'fontsize':12 }\n",
        "    )\n",
        "    \n",
        "    plt.title('Pearson Correlation of Features', y=1.05, size=15)"
      ]
    },
    {
      "cell_type": "code",
      "execution_count": null,
      "metadata": {
        "colab": {
          "base_uri": "https://localhost:8080/",
          "height": 1000
        },
        "id": "OlZWQAkQhGZ0",
        "outputId": "533983fd-4fb1-4985-fd02-643b407d9fda"
      },
      "outputs": [],
      "source": [
        "correlation_heatmap(df)"
      ]
    },
    {
      "cell_type": "code",
      "execution_count": null,
      "metadata": {
        "colab": {
          "base_uri": "https://localhost:8080/",
          "height": 240
        },
        "id": "06OxbeduhIiw",
        "outputId": "004ff5ba-1525-45c8-e5fa-f82cecac1c9f"
      },
      "outputs": [],
      "source": [
        "df_main = df.copy()\n",
        "df_main.head(2)"
      ]
    },
    {
      "cell_type": "markdown",
      "metadata": {
        "id": "xPycLx8JhTBc"
      },
      "source": [
        "## Random forest feature selection"
      ]
    },
    {
      "cell_type": "code",
      "execution_count": null,
      "metadata": {
        "id": "LDeybO3OhMWo"
      },
      "outputs": [],
      "source": [
        "X = df_main.drop([\"Number of Customers Affected\"], axis=1)\n",
        "y = df_main[\"Number of Customers Affected\"]\n",
        "\n",
        "X_train, X_test, y_train, y_test = train_test_split(X, y, random_state=42)"
      ]
    },
    {
      "cell_type": "code",
      "execution_count": null,
      "metadata": {
        "colab": {
          "base_uri": "https://localhost:8080/"
        },
        "id": "iaOlD36-iMB5",
        "outputId": "6dc08b68-9414-44b3-c089-ca8e15eeb528"
      },
      "outputs": [],
      "source": [
        "feature_names = [f'feature {i}' for i in range(X.shape[1])]\n",
        "rf = RandomForestRegressor(n_estimators=100)\n",
        "rf.fit(X_train, y_train)"
      ]
    },
    {
      "cell_type": "code",
      "execution_count": null,
      "metadata": {
        "colab": {
          "base_uri": "https://localhost:8080/"
        },
        "id": "CmwlwDOjiZNM",
        "outputId": "239ed0fc-2ea2-4947-cef9-5a0859ac4573"
      },
      "outputs": [],
      "source": [
        "dict(reversed(sorted(zip(rf.feature_importances_, X.columns.values))))"
      ]
    },
    {
      "cell_type": "code",
      "execution_count": null,
      "metadata": {
        "colab": {
          "base_uri": "https://localhost:8080/",
          "height": 295
        },
        "id": "Hms6DJn9icYn",
        "outputId": "530f3cf9-0e44-4bcd-fd4e-b028c46d198c"
      },
      "outputs": [],
      "source": [
        "features = X.columns\n",
        "importances = rf.feature_importances_\n",
        "indices = np.argsort(importances)[-9:] \n",
        "plt.title('Feature Importances')\n",
        "plt.barh(range(len(indices)), importances[indices], color='b', align='center')\n",
        "plt.yticks(range(len(indices)), [features[i] for i in indices])\n",
        "plt.xlabel('Relative Importance')\n",
        "plt.show()"
      ]
    },
    {
      "cell_type": "markdown",
      "metadata": {
        "id": "SUD1GE16i82S"
      },
      "source": [
        "## Normalizing the data"
      ]
    },
    {
      "cell_type": "code",
      "execution_count": 73,
      "metadata": {
        "id": "PqvInKqIiwui"
      },
      "outputs": [],
      "source": [
        "X = df.drop(['Number of Customers Affected'], axis=1)\n",
        "y = df['Number of Customers Affected']"
      ]
    },
    {
      "cell_type": "code",
      "execution_count": 74,
      "metadata": {
        "id": "mfdd7sWGiuEM"
      },
      "outputs": [],
      "source": [
        "scaler = StandardScaler()"
      ]
    },
    {
      "cell_type": "code",
      "execution_count": 84,
      "metadata": {},
      "outputs": [],
      "source": [
        "mean_std_dict = {}\n",
        "for col in df.columns:\n",
        "    mean_std_dict[col] = [df[col].mean(), df[col].std()]"
      ]
    },
    {
      "cell_type": "code",
      "execution_count": 85,
      "metadata": {},
      "outputs": [
        {
          "data": {
            "text/plain": [
              "{'State': [23.487577957264083, 13.852090218156427],\n",
              " 'Outage': [0.01435180451896534, 0.1189370043776488],\n",
              " 'Number of Customers Affected': [3109.0457136284635, 48243.95196142869],\n",
              " 'AWND': [3.6046979067938993, 1.4829674266885424],\n",
              " 'PRCP': [2.6506215026527857, 6.174512701716785],\n",
              " 'SNOW': [2.154551489298647, 13.406634232864967],\n",
              " 'SNWD': [17.32275710760568, 72.79354447532016],\n",
              " 'TMAX': [18.445801819436678, 11.322569065874935],\n",
              " 'TMIN': [6.772201132654679, 10.388184118762583],\n",
              " 'Fog': [0.6803496574992333, 0.4663440579303284],\n",
              " 'Thunder': [0.24240875166138431, 0.4285429917670362],\n",
              " 'Hail': [0.010620079746447193, 0.10250574586962279],\n",
              " 'Dust': [0.0050991718638176056, 0.07122664631620647],\n",
              " 'Tornado': [0.000830692158266026, 0.02880994127495925],\n",
              " 'Wind': [0.00011501891422144975, 0.010724138876776201],\n",
              " 'Snow': [2.5559758715877723e-05, 0.005055633695301739],\n",
              " 'hours': [1.2550957638702203, 13.112778029383072],\n",
              " 'Season_Fall': [0.2230983539515387, 0.4163264266446045],\n",
              " 'Season_Spring': [0.28217973622329007, 0.4500632414908624],\n",
              " 'Season_Summer': [0.23780799509252631, 0.42574366585275464],\n",
              " 'Season_Winter': [0.2569139147326449, 0.43693431425849816]}"
            ]
          },
          "execution_count": 85,
          "metadata": {},
          "output_type": "execute_result"
        }
      ],
      "source": [
        "mean_std_dict"
      ]
    },
    {
      "cell_type": "code",
      "execution_count": 76,
      "metadata": {
        "id": "OjAiyMNBiy3Q"
      },
      "outputs": [],
      "source": [
        "df_scaled = pd.DataFrame(scaler.fit_transform(X), columns=X.columns)"
      ]
    },
    {
      "cell_type": "code",
      "execution_count": 108,
      "metadata": {
        "colab": {
          "base_uri": "https://localhost:8080/",
          "height": 270
        },
        "id": "c7L6IS2Mi0qE",
        "outputId": "6bde2bd9-496a-4900-b358-dc6bc792b4d5"
      },
      "outputs": [
        {
          "data": {
            "text/plain": [
              "array([-0.12066805,  8.28719791])"
            ]
          },
          "execution_count": 108,
          "metadata": {},
          "output_type": "execute_result"
        }
      ],
      "source": [
        "df_scaled.Outage.unique()"
      ]
    },
    {
      "cell_type": "code",
      "execution_count": 106,
      "metadata": {},
      "outputs": [
        {
          "data": {
            "text/html": [
              "<div>\n",
              "<style scoped>\n",
              "    .dataframe tbody tr th:only-of-type {\n",
              "        vertical-align: middle;\n",
              "    }\n",
              "\n",
              "    .dataframe tbody tr th {\n",
              "        vertical-align: top;\n",
              "    }\n",
              "\n",
              "    .dataframe thead th {\n",
              "        text-align: right;\n",
              "    }\n",
              "</style>\n",
              "<table border=\"1\" class=\"dataframe\">\n",
              "  <thead>\n",
              "    <tr style=\"text-align: right;\">\n",
              "      <th></th>\n",
              "      <th>State</th>\n",
              "      <th>Outage</th>\n",
              "      <th>AWND</th>\n",
              "      <th>PRCP</th>\n",
              "      <th>SNOW</th>\n",
              "      <th>SNWD</th>\n",
              "      <th>TMAX</th>\n",
              "      <th>TMIN</th>\n",
              "      <th>Fog</th>\n",
              "      <th>Thunder</th>\n",
              "      <th>Hail</th>\n",
              "      <th>Dust</th>\n",
              "      <th>Tornado</th>\n",
              "      <th>Wind</th>\n",
              "      <th>Snow</th>\n",
              "      <th>hours</th>\n",
              "      <th>Season_Fall</th>\n",
              "      <th>Season_Spring</th>\n",
              "      <th>Season_Summer</th>\n",
              "      <th>Season_Winter</th>\n",
              "    </tr>\n",
              "  </thead>\n",
              "  <tbody>\n",
              "    <tr>\n",
              "      <th>0</th>\n",
              "      <td>-1.695598</td>\n",
              "      <td>-0.120667</td>\n",
              "      <td>-0.281326</td>\n",
              "      <td>8.958096</td>\n",
              "      <td>-0.160708</td>\n",
              "      <td>-0.237971</td>\n",
              "      <td>0.111874</td>\n",
              "      <td>0.583865</td>\n",
              "      <td>0.685439</td>\n",
              "      <td>1.76783</td>\n",
              "      <td>-0.103605</td>\n",
              "      <td>-0.071591</td>\n",
              "      <td>-0.028834</td>\n",
              "      <td>-0.010725</td>\n",
              "      <td>-0.005056</td>\n",
              "      <td>-0.095715</td>\n",
              "      <td>-0.535874</td>\n",
              "      <td>-0.626978</td>\n",
              "      <td>-0.558571</td>\n",
              "      <td>1.700681</td>\n",
              "    </tr>\n",
              "  </tbody>\n",
              "</table>\n",
              "</div>"
            ],
            "text/plain": [
              "      State    Outage      AWND      PRCP      SNOW      SNWD      TMAX  \\\n",
              "0 -1.695598 -0.120667 -0.281326  8.958096 -0.160708 -0.237971  0.111874   \n",
              "\n",
              "       TMIN       Fog  Thunder      Hail      Dust   Tornado      Wind  \\\n",
              "0  0.583865  0.685439  1.76783 -0.103605 -0.071591 -0.028834 -0.010725   \n",
              "\n",
              "       Snow     hours  Season_Fall  Season_Spring  Season_Summer  \\\n",
              "0 -0.005056 -0.095715    -0.535874      -0.626978      -0.558571   \n",
              "\n",
              "   Season_Winter  \n",
              "0       1.700681  "
            ]
          },
          "execution_count": 106,
          "metadata": {},
          "output_type": "execute_result"
        }
      ],
      "source": [
        "def normalize_data(df):\n",
        "    mean_std_dict = {'State': [23.487577957264083, 13.852090218156427],\n",
        "                    'Outage': [0.01435180451896534, 0.1189370043776488],\n",
        "                    'AWND': [3.6046979067938993, 1.4829674266885424],\n",
        "                    'PRCP': [2.6506215026527857, 6.174512701716785],\n",
        "                    'SNOW': [2.154551489298647, 13.406634232864967],\n",
        "                    'SNWD': [17.32275710760568, 72.79354447532016],\n",
        "                    'TMAX': [18.445801819436678, 11.322569065874935],\n",
        "                    'TMIN': [6.772201132654679, 10.388184118762583],\n",
        "                    'Fog': [0.6803496574992333, 0.4663440579303284],\n",
        "                    'Thunder': [0.24240875166138431, 0.4285429917670362],\n",
        "                    'Hail': [0.010620079746447193, 0.10250574586962279],\n",
        "                    'Dust': [0.0050991718638176056, 0.07122664631620647],\n",
        "                    'Tornado': [0.000830692158266026, 0.02880994127495925],\n",
        "                    'Wind': [0.00011501891422144975, 0.010724138876776201],\n",
        "                    'Snow': [2.5559758715877723e-05, 0.005055633695301739],\n",
        "                    'hours': [1.2550957638702203, 13.112778029383072],\n",
        "                    'Season_Fall': [0.2230983539515387, 0.4163264266446045],\n",
        "                    'Season_Spring': [0.28217973622329007, 0.4500632414908624],\n",
        "                    'Season_Summer': [0.23780799509252631, 0.42574366585275464],\n",
        "                    'Season_Winter': [0.2569139147326449, 0.43693431425849816]}\n",
        "    for col in df.columns:\n",
        "        df[col] = df[col].apply(lambda x: (x - mean_std_dict[col][0])/mean_std_dict[col][1])\n",
        "    return df\n",
        "\n",
        "asdf = normalize_data(X[0:1].copy())\n",
        "asdf"
      ]
    },
    {
      "cell_type": "markdown",
      "metadata": {
        "id": "feUbHCY9inoQ"
      },
      "source": [
        "## Building models"
      ]
    },
    {
      "cell_type": "markdown",
      "metadata": {
        "id": "iG_zo_0wjzCK"
      },
      "source": [
        "## RandomForestRegressor"
      ]
    },
    {
      "cell_type": "code",
      "execution_count": null,
      "metadata": {
        "id": "lIJGc4xpigPU"
      },
      "outputs": [],
      "source": [
        "X = df_scaled\n",
        "y = df['Number of Customers Affected']"
      ]
    },
    {
      "cell_type": "code",
      "execution_count": null,
      "metadata": {
        "id": "HPcVN0qEjEMm"
      },
      "outputs": [],
      "source": [
        "X_train, X_test, y_train, y_test = train_test_split(X, y, test_size=0.25, random_state=0)"
      ]
    },
    {
      "cell_type": "code",
      "execution_count": null,
      "metadata": {
        "colab": {
          "base_uri": "https://localhost:8080/"
        },
        "id": "-lVZRVYqjIMN",
        "outputId": "ec2666c8-f459-416d-da3d-202da80079dd"
      },
      "outputs": [],
      "source": [
        "rf_model = RandomForestRegressor()\n",
        "rf_model.fit(X_train, y_train)"
      ]
    },
    {
      "cell_type": "code",
      "execution_count": null,
      "metadata": {
        "id": "iV2aFnbpjZ-m"
      },
      "outputs": [],
      "source": [
        "rf_y_pred = rf_model.predict(X_test)"
      ]
    },
    {
      "cell_type": "code",
      "execution_count": null,
      "metadata": {
        "colab": {
          "base_uri": "https://localhost:8080/"
        },
        "id": "aIx04xqUjNXE",
        "outputId": "a4f2fa70-ee56-42d1-b282-d82388dca598"
      },
      "outputs": [],
      "source": [
        "print('Root Mean Squared Error for Random forest regressor is:', np.sqrt(metrics.mean_squared_error(y_test, rf_y_pred)))"
      ]
    },
    {
      "cell_type": "code",
      "execution_count": null,
      "metadata": {
        "colab": {
          "base_uri": "https://localhost:8080/"
        },
        "id": "-o-rzp70Glhq",
        "outputId": "1299f36b-d1c1-43a7-d411-8d6c27abc0a5"
      },
      "outputs": [],
      "source": [
        "print('R-squared for Random forest regressor is:', metrics.r2_score(y_test, rf_y_pred))"
      ]
    },
    {
      "cell_type": "markdown",
      "metadata": {
        "id": "46TVGzBrj6oG"
      },
      "source": [
        "# Xgboost Regressor"
      ]
    },
    {
      "cell_type": "code",
      "execution_count": null,
      "metadata": {
        "id": "3HmIrzXcjRmX"
      },
      "outputs": [],
      "source": [
        "X_train,X_val,y_train,y_val = train_test_split(X,y,test_size=0.25,random_state=0)"
      ]
    },
    {
      "cell_type": "code",
      "execution_count": null,
      "metadata": {
        "id": "kw26SUoLj5rY"
      },
      "outputs": [],
      "source": [
        "from xgboost import XGBRegressor\n",
        "from xgboost import XGBRFRegressor\n",
        "from sklearn.model_selection import GridSearchCV\n",
        "\n",
        "from sklearn.metrics import mean_squared_error\n",
        "from sklearn.metrics import mean_absolute_error"
      ]
    },
    {
      "cell_type": "code",
      "execution_count": null,
      "metadata": {
        "id": "WOE-fMeBmDE2"
      },
      "outputs": [],
      "source": [
        "#XGBoost hyper-parameter tuning\n",
        "param_tuning = {\n",
        "        'learning_rate': [0.01, 0.05, 0.1],\n",
        "        'max_depth': [3, 5, 6, 8],\n",
        "        'n_estimators' : [100, 200, 500],\n",
        "        'objective': ['reg:squarederror']\n",
        "    }"
      ]
    },
    {
      "cell_type": "code",
      "execution_count": null,
      "metadata": {
        "id": "SQBpJcgLrFDr"
      },
      "outputs": [],
      "source": [
        "xgb_model = XGBRegressor()"
      ]
    },
    {
      "cell_type": "code",
      "execution_count": null,
      "metadata": {
        "id": "wHGWDkamrImw"
      },
      "outputs": [],
      "source": [
        "gsearch = GridSearchCV(estimator = xgb_model,\n",
        "                           param_grid = param_tuning,\n",
        "                           scoring = 'neg_mean_squared_error',  #MSE\n",
        "                           cv = 5,\n",
        "                           n_jobs = -1,\n",
        "                           verbose = 1)"
      ]
    },
    {
      "cell_type": "code",
      "execution_count": null,
      "metadata": {
        "colab": {
          "base_uri": "https://localhost:8080/"
        },
        "id": "vDlYZ-CUrNPA",
        "outputId": "c035c6d4-8874-493a-ea76-405c87f444e5"
      },
      "outputs": [],
      "source": [
        "gsearch.fit(X_train,y_train)"
      ]
    },
    {
      "cell_type": "code",
      "execution_count": null,
      "metadata": {
        "colab": {
          "base_uri": "https://localhost:8080/"
        },
        "id": "1gh0PmK_r3KX",
        "outputId": "6af4a8f6-6ae2-4d31-a1f9-b91bf04774af"
      },
      "outputs": [],
      "source": [
        "gsearch.best_params_"
      ]
    },
    {
      "cell_type": "code",
      "execution_count": null,
      "metadata": {
        "id": "Ejl1IBb6AC0I"
      },
      "outputs": [],
      "source": [
        "xgb_model = XGBRegressor(objective = 'reg:squarederror',\n",
        "                        learning_rate = 0.1,\n",
        "                        max_depth = 5,\n",
        "                        n_estimators = 500, \n",
        "                        early_stopping_rounds=5)"
      ]
    },
    {
      "cell_type": "code",
      "execution_count": null,
      "metadata": {
        "colab": {
          "base_uri": "https://localhost:8080/"
        },
        "id": "E1EysDP4AZ0t",
        "outputId": "57993a36-569d-4739-fc77-06fb35696a1e"
      },
      "outputs": [],
      "source": [
        "xgb_model.fit(X_train, y_train, eval_set=[(X_test, y_test)], verbose=False)"
      ]
    },
    {
      "cell_type": "code",
      "execution_count": 121,
      "metadata": {
        "id": "-wQQe1WhBokO"
      },
      "outputs": [
        {
          "name": "stdout",
          "output_type": "stream",
          "text": [
            "Root Mean Squared Error for Xgboost regressor is: 12078.955476305218\n",
            "R-squared for Xgboost regressor is: 0.9361181898136481\n"
          ]
        }
      ],
      "source": [
        "y_pred_xgb = xgb_model.predict(X_test)\n",
        "print('Root Mean Squared Error for Xgboost regressor is:', np.sqrt(metrics.mean_squared_error(y_test, y_pred_xgb)))\n",
        "print('R-squared for Xgboost regressor is:', metrics.r2_score(y_test, y_pred_xgb))"
      ]
    },
    {
      "cell_type": "code",
      "execution_count": null,
      "metadata": {},
      "outputs": [],
      "source": [
        "from joblib import dump\n",
        "dump(xgb_model, 'reg_model.joblib')"
      ]
    }
  ],
  "metadata": {
    "colab": {
      "collapsed_sections": [
        "feUbHCY9inoQ"
      ],
      "name": "BofA_regression.ipynb",
      "provenance": []
    },
    "kernelspec": {
      "display_name": "Python 3",
      "name": "python3"
    },
    "language_info": {
      "codemirror_mode": {
        "name": "ipython",
        "version": 3
      },
      "file_extension": ".py",
      "mimetype": "text/x-python",
      "name": "python",
      "nbconvert_exporter": "python",
      "pygments_lexer": "ipython3",
      "version": "3.9.12"
    }
  },
  "nbformat": 4,
  "nbformat_minor": 0
}
